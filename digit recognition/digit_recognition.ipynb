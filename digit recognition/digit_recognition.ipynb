{
 "cells": [
  {
   "cell_type": "code",
   "execution_count": 1,
   "metadata": {
    "id": "-kGWndlyErJr"
   },
   "outputs": [],
   "source": [
    "import numpy as np\n",
    "import pandas as pd\n",
    "import torch\n",
    "import matplotlib.pyplot as plt"
   ]
  },
  {
   "cell_type": "code",
   "execution_count": 2,
   "metadata": {
    "id": "-mFSkrpaIUUm"
   },
   "outputs": [],
   "source": [
    "# some parameters \n",
    "BATCH_SIZE = 1024\n",
    "learning_rate = 0.01\n",
    "epochs = 100"
   ]
  },
  {
   "cell_type": "code",
   "execution_count": 3,
   "metadata": {
    "colab": {
     "base_uri": "https://localhost:8080/"
    },
    "id": "mvBCqn_fIhv4",
    "outputId": "48fde02b-2d45-40b1-b5aa-da5dc00ae826"
   },
   "outputs": [
    {
     "name": "stdout",
     "output_type": "stream",
     "text": [
      "<class 'torch.device'> cuda:0\n"
     ]
    }
   ],
   "source": [
    "# turn on cuda\n",
    "device = torch.device('cpu')\n",
    "if torch.cuda.is_available():\n",
    "    device = torch.device('cuda', 0)\n",
    "    \n",
    "print(type(device), device)"
   ]
  },
  {
   "cell_type": "code",
   "execution_count": 4,
   "metadata": {
    "id": "kVsmN5fcEvxZ"
   },
   "outputs": [],
   "source": [
    "data = pd.read_csv('train.csv')\n",
    "X_test = pd.read_csv('test.csv').values.reshape(-1, 1, 28, 28)\n",
    "\n",
    "from sklearn.model_selection import train_test_split\n",
    "\n",
    "X = data.drop('label', axis=1).values.reshape(-1, 1, 28, 28)\n",
    "Y = data['label'].values\n",
    "\n",
    "\n",
    "X_train, X_val, Y_train, Y_val = train_test_split(X, Y, test_size=0.25, random_state=42)"
   ]
  },
  {
   "cell_type": "code",
   "execution_count": 5,
   "metadata": {
    "colab": {
     "base_uri": "https://localhost:8080/",
     "height": 265
    },
    "id": "pW8ETorSMz-v",
    "outputId": "511e9702-ab82-40ae-809d-3cc81aff5db8"
   },
   "outputs": [
    {
     "data": {
      "image/png": "[encoded data removed]",
      "text/plain": [
       "<Figure size 432x288 with 1 Axes>"
      ]
     },
     "metadata": {
      "needs_background": "light"
     },
     "output_type": "display_data"
    }
   ],
   "source": [
    "plt.imshow(X_train[1, 0])\n",
    "plt.show()"
   ]
  },
  {
   "cell_type": "code",
   "execution_count": 6,
   "metadata": {
    "id": "OBijbey2N3pB"
   },
   "outputs": [],
   "source": [
    "class Flatten(torch.nn.Module):\n",
    "    def forward(self, x):\n",
    "        batch_size = x.shape[0]\n",
    "        return x.view(batch_size, -1)"
   ]
  },
  {
   "cell_type": "code",
   "execution_count": 7,
   "metadata": {
    "id": "QcH0uC22FaIB"
   },
   "outputs": [],
   "source": [
    "from torch.nn import Module, Conv2d, Linear, MaxPool2d, ReLU, LogSoftmax, Dropout\n",
    "from torch import flatten\n",
    "\n",
    "class LeNet(Module):\n",
    "  def __init__(self, num_channels, classes):\n",
    "    super(LeNet, self).__init__()\n",
    "    self.model = torch.nn.Sequential(\n",
    "                  Conv2d(in_channels=num_channels, out_channels=20,\n",
    "\t\t\t  kernel_size=(5, 5)),\n",
    "                  ReLU(),\n",
    "                  MaxPool2d(kernel_size=(2, 2), stride=(2, 2)),\n",
    "                  Conv2d(in_channels=20, out_channels=50,\n",
    "\t\t\tkernel_size=(5, 5)),\n",
    "                  ReLU(),\n",
    "                  MaxPool2d(kernel_size=(2, 2), stride=(2, 2)),\n",
    "                  Flatten(),\n",
    "                  Dropout(0.3),\n",
    "                  Linear(in_features=800, out_features=500),\n",
    "                  ReLU(),\n",
    "                  Dropout(0.3),\n",
    "                  Linear(in_features=500, out_features=classes),\n",
    "                  LogSoftmax(dim=1)\n",
    "    )\n",
    "  def forward(self, x):\n",
    "\t  return self.model(x)"
   ]
  },
  {
   "cell_type": "code",
   "execution_count": 8,
   "metadata": {
    "id": "vQxccu20F9z_"
   },
   "outputs": [],
   "source": [
    "from torch.utils.data import Dataset, DataLoader\n",
    "\n",
    "class dataset(Dataset):\n",
    "    def __init__(self,x,y):\n",
    "        self.x = torch.tensor(x,dtype=torch.float32).to(device)\n",
    "        self.y = torch.tensor(y,dtype=torch.long).to(device)\n",
    "        self.length = self.x.shape[0]\n",
    " \n",
    "    def __getitem__(self,idx):\n",
    "        return self.x[idx],self.y[idx]\n",
    "    def __len__(self):\n",
    "        return self.length\n",
    "\n",
    "trainset = dataset(X_train, Y_train)\n",
    "\n",
    "trainloader = DataLoader(trainset,batch_size=BATCH_SIZE,shuffle=False)"
   ]
  },
  {
   "cell_type": "code",
   "execution_count": 9,
   "metadata": {
    "id": "EaND5lrzIn2K"
   },
   "outputs": [],
   "source": [
    "# Model , Optimizer, Loss\n",
    "model = LeNet(num_channels=1, classes=10)\n",
    "model.to(device)\n",
    "optimizer = torch.optim.SGD(model.parameters(),lr=learning_rate)\n",
    "loss_fn = torch.nn.NLLLoss()"
   ]
  },
  {
   "cell_type": "code",
   "execution_count": 10,
   "metadata": {
    "colab": {
     "base_uri": "https://localhost:8080/"
    },
    "id": "_mmakYDLI6yJ",
    "outputId": "9d0a2d1e-ad3b-4133-9a34-fc80687506c1"
   },
   "outputs": [
    {
     "name": "stderr",
     "output_type": "stream",
     "text": [
      "  1%|          | 1/100 [00:02<04:21,  2.64s/it]"
     ]
    },
    {
     "name": "stdout",
     "output_type": "stream",
     "text": [
      "\n",
      " epoch 0\tloss : 2.266256093978882\t accuracy: 0.21876190476190477\n"
     ]
    },
    {
     "name": "stderr",
     "output_type": "stream",
     "text": [
      " 26%|██▌       | 26/100 [00:18<00:37,  1.98it/s]"
     ]
    },
    {
     "name": "stdout",
     "output_type": "stream",
     "text": [
      "\n",
      " epoch 25\tloss : 0.030045202001929283\t accuracy: 0.9767619047619047\n"
     ]
    },
    {
     "name": "stderr",
     "output_type": "stream",
     "text": [
      " 51%|█████     | 51/100 [00:27<00:18,  2.59it/s]"
     ]
    },
    {
     "name": "stdout",
     "output_type": "stream",
     "text": [
      "\n",
      " epoch 50\tloss : 0.008696168661117554\t accuracy: 0.9824761904761905\n"
     ]
    },
    {
     "name": "stderr",
     "output_type": "stream",
     "text": [
      " 76%|███████▌  | 76/100 [00:36<00:09,  2.53it/s]"
     ]
    },
    {
     "name": "stdout",
     "output_type": "stream",
     "text": [
      "\n",
      " epoch 75\tloss : 0.0038260475266724825\t accuracy: 0.9828571428571429\n"
     ]
    },
    {
     "name": "stderr",
     "output_type": "stream",
     "text": [
      "100%|██████████| 100/100 [00:44<00:00,  2.25it/s]\n"
     ]
    }
   ],
   "source": [
    "from tqdm import tqdm\n",
    "from sklearn.metrics import balanced_accuracy_score\n",
    "losses = []\n",
    "accur = []\n",
    "for i in tqdm(range(epochs)):\n",
    "    for j, (x_train, y_train) in enumerate(trainloader):\n",
    "    #calculate output\n",
    "        output = model(x_train)\n",
    "    #calculate loss\n",
    "        loss = loss_fn(output,y_train)\n",
    "    #backprop\n",
    "        optimizer.zero_grad()\n",
    "        loss.backward()\n",
    "        optimizer.step()\n",
    "\n",
    "    if i%25 == 0:\n",
    "        model.eval()\n",
    "        with torch.no_grad():\n",
    "            predicted = model(torch.tensor(X_val,dtype=torch.float32).to(device))\n",
    "            predicted = predicted.detach().argmax(dim=1).cpu().numpy()\n",
    "            acc = (predicted == Y_val).mean()\n",
    "            losses.append(loss)\n",
    "            accur.append(acc)\n",
    "            print(\"\\n epoch {}\\tloss : {}\\t accuracy: {}\".format(i,loss,acc))"
   ]
  },
  {
   "cell_type": "code",
   "execution_count": 11,
   "metadata": {
    "colab": {
     "base_uri": "https://localhost:8080/",
     "height": 282
    },
    "id": "kmmksqG-P286",
    "outputId": "fe4e1fc0-9f02-46eb-ff22-89cbe33f147c"
   },
   "outputs": [
    {
     "name": "stdout",
     "output_type": "stream",
     "text": [
      "[0]\n"
     ]
    },
    {
     "data": {
      "image/png": "[encoded data removed]",
      "text/plain": [
       "<Figure size 432x288 with 1 Axes>"
      ]
     },
     "metadata": {
      "needs_background": "light"
     },
     "output_type": "display_data"
    }
   ],
   "source": [
    "predict = model(torch.tensor(X_test[1:2], dtype=torch.float32).to(device))\n",
    "plt.imshow(X_test[1, 0])\n",
    "plt.plot()\n",
    "print(predict.detach().argmax(dim=1).cpu().numpy())"
   ]
  },
  {
   "cell_type": "code",
   "execution_count": 24,
   "metadata": {
    "id": "7aZeO3dmUBKI"
   },
   "outputs": [],
   "source": [
    "# predict test\n",
    "prediction = model(torch.tensor(X_test, dtype=torch.float32).to(device)).detach().argmax(dim=1).cpu().numpy()\n",
    "\n",
    "prediction=pd.DataFrame(prediction, range(1, 1 + len(prediction)), ['Label'])\n",
    "prediction['Label'] = prediction['Label'].astype('str')\n",
    "prediction.to_csv('results.csv', index_label='ImageId')"
   ]
  },
  {
   "cell_type": "code",
   "execution_count": 12,
   "metadata": {
    "id": "gaiOTmVtTdq5"
   },
   "outputs": [],
   "source": [
    "# save model\n",
    "torch.save(model.state_dict(), 'trained_model.torch')"
   ]
  },
  {
   "cell_type": "code",
   "execution_count": null,
   "metadata": {
    "id": "v5cegAOzWHnd"
   },
   "outputs": [],
   "source": []
  }
 ],
 "metadata": {
  "accelerator": "GPU",
  "colab": {
   "provenance": []
  },
  "gpuClass": "standard",
  "kernelspec": {
   "display_name": "Python 3 (ipykernel)",
   "language": "python",
   "name": "python3"
  },
  "language_info": {
   "codemirror_mode": {
    "name": "ipython",
    "version": 3
   },
   "file_extension": ".py",
   "mimetype": "text/x-python",
   "name": "python",
   "nbconvert_exporter": "python",
   "pygments_lexer": "ipython3",
   "version": "3.10.9"
  }
 },
 "nbformat": 4,
 "nbformat_minor": 1
}
